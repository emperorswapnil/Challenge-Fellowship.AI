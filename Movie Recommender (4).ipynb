{
 "cells": [
  {
   "cell_type": "markdown",
   "metadata": {},
   "source": [
    "# CHALLENGE-FELLOWSHIP.AI\n",
    "\n",
    "## Objective\n",
    "To build a movie recommendation engine.\n",
    "## Introduction\n",
    "We build a Movie recommendation engine using Movielens \"ml-1m\" dataset. The dataset consists of the ratings of users with genre tags, occupations of the users and corresponding unix time stamps.\n",
    "\n"
   ]
  },
  {
   "cell_type": "code",
   "execution_count": 44,
   "metadata": {
    "collapsed": true
   },
   "outputs": [],
   "source": [
    "#Import the required Libraries\n",
    "import pandas as pd\n",
    "import numpy as np\n",
    "import graphlab\n",
    "from sklearn.model_selection import train_test_split"
   ]
  },
  {
   "cell_type": "markdown",
   "metadata": {},
   "source": [
    "# Movielens Data file\n",
    "The data is presented in three files\n",
    "1. The Users file: Contains info about the users. A user is indexed with his alloted userid. Corresponding data to the userid consists of sex, age and occupation.\n",
    "2. Movies file  : Contains info about movies, with a movieid and corresponding genres.\n",
    "3. Ratings File : Contains ratings awared to each movie by the user."
   ]
  },
  {
   "cell_type": "code",
   "execution_count": 45,
   "metadata": {
    "collapsed": false
   },
   "outputs": [
    {
     "name": "stdout",
     "output_type": "stream",
     "text": [
      "0     Animation|Children's|Comedy\n",
      "1    Adventure|Children's|Fantasy\n",
      "2                  Comedy|Romance\n",
      "3                    Comedy|Drama\n",
      "4                          Comedy\n",
      "Name: genre, dtype: object\n"
     ]
    }
   ],
   "source": [
    "movie_data= ['movie id', 'movie title','genre']\n",
    "movies=pd.read_csv('C:\\Users\\Swapnil\\.jupyter\\ml-1m\\movies.dat',sep='::',names=movie_data,engine='python')\n",
    "print movies.genre.head()\n",
    "    "
   ]
  },
  {
   "cell_type": "markdown",
   "metadata": {},
   "source": [
    "The genre column and covert the strings to boolean where it is declared true if the movie belongs to a particular genre and false otherwise."
   ]
  },
  {
   "cell_type": "code",
   "execution_count": 46,
   "metadata": {
    "collapsed": false
   },
   "outputs": [
    {
     "name": "stdout",
     "output_type": "stream",
     "text": [
      "   movie id                         movie title Action Adventure Animation  \\\n",
      "0         1                    Toy Story (1995)  False     False      True   \n",
      "1         2                      Jumanji (1995)  False      True     False   \n",
      "2         3             Grumpier Old Men (1995)  False     False     False   \n",
      "3         4            Waiting to Exhale (1995)  False     False     False   \n",
      "4         5  Father of the Bride Part II (1995)  False     False     False   \n",
      "\n",
      "  Children's Comedy  Crime Documentary  Drama Fantasy Film-Noir Horror  \\\n",
      "0       True   True  False       False  False   False     False  False   \n",
      "1       True  False  False       False  False    True     False  False   \n",
      "2      False   True  False       False  False   False     False  False   \n",
      "3      False   True  False       False   True   False     False  False   \n",
      "4      False   True  False       False  False   False     False  False   \n",
      "\n",
      "  Musical Mystery Romance Sci-Fi Thriller    War Western  \n",
      "0   False   False   False  False    False  False   False  \n",
      "1   False   False   False  False    False  False   False  \n",
      "2   False   False    True  False    False  False   False  \n",
      "3   False   False   False  False    False  False   False  \n",
      "4   False   False   False  False    False  False   False  \n"
     ]
    }
   ],
   "source": [
    "genres_unique = pd.DataFrame(movies.genre.str.split('|').tolist()).stack().unique()\n",
    "genres_unique = pd.DataFrame(genres_unique, columns=['genre']) # Format into DataFrame to store later\n",
    "movies = movies.join(movies.genre.str.get_dummies().astype(bool))\n",
    "movies.drop('genre', inplace=True, axis=1)\n",
    "print movies.head()"
   ]
  },
  {
   "cell_type": "code",
   "execution_count": 47,
   "metadata": {
    "collapsed": false
   },
   "outputs": [
    {
     "name": "stdout",
     "output_type": "stream",
     "text": [
      "   user_id sex  age  occupation zip_code\n",
      "0        1   F    1          10    48067\n",
      "1        2   M   56          16    70072\n",
      "2        3   M   25          15    55117\n",
      "3        4   M   45           7    02460\n",
      "4        5   M   25          20    55455\n",
      "   user_id  movie_id  rating  unix_timestamp\n",
      "0        1      1193       5       978300760\n",
      "1        1       661       3       978302109\n",
      "2        1       914       3       978301968\n",
      "3        1      3408       4       978300275\n",
      "4        1      2355       5       978824291\n"
     ]
    }
   ],
   "source": [
    "#Load users files.\n",
    "user_data = ['user_id', 'sex', 'age', 'occupation', 'zip_code']\n",
    "users = pd.read_csv('C:\\Users\\Swapnil\\.jupyter\\ml-1m\\users.dat', sep='::', names=user_data,engine='python',\n",
    "encoding='latin-1')\n",
    "#Reading readers data\n",
    "print users.head()\n",
    "r_cols = ['user_id', 'movie_id', 'rating', 'unix_timestamp']\n",
    "ratings = pd.read_csv('C:\\Users\\Swapnil\\.jupyter\\ml-1m\\\\ratings.dat', sep='::', names=r_cols,engine='python',\n",
    " encoding='latin-1')\n",
    "print ratings.head()"
   ]
  },
  {
   "cell_type": "markdown",
   "metadata": {},
   "source": [
    "## Split Data\n",
    "To check the accuracy of our predictor model, we need data to test on. Since we already have data with us, we can train the model the trainer on a part of data and test it on the remaining part. "
   ]
  },
  {
   "cell_type": "code",
   "execution_count": 48,
   "metadata": {
    "collapsed": false
   },
   "outputs": [
    {
     "name": "stdout",
     "output_type": "stream",
     "text": [
      "        user_id  movie_id  rating  unix_timestamp\n",
      "505111     3108       457       5       969494084\n",
      "208453     1273       541       4       974814174\n",
      "654055     3942      2662       2       965694189\n",
      "810615     4864      2375       3       962819749\n",
      "256320     1564      3283       3       974739166\n",
      "        user_id  movie_id  rating  unix_timestamp\n",
      "706385     4234       969       4       965332319\n",
      "620555     3760      3016       3       966093953\n",
      "754978     4497      2728       4       964998985\n",
      "706043     4229      1885       5       965312427\n",
      "438496     2679      1242       5       973391738\n"
     ]
    }
   ],
   "source": [
    "X_train, X_test = train_test_split(ratings,test_size=0.2)\n",
    "print X_train.head()\n",
    "print X_test.head()"
   ]
  },
  {
   "cell_type": "markdown",
   "metadata": {},
   "source": [
    "## Popularity Recommender\n",
    "It suggests a user movies based upon the popularity of a film. "
   ]
  },
  {
   "cell_type": "code",
   "execution_count": 49,
   "metadata": {
    "collapsed": false
   },
   "outputs": [
    {
     "data": {
      "text/html": [
       "<pre>Recsys training: model = popularity</pre>"
      ],
      "text/plain": [
       "Recsys training: model = popularity"
      ]
     },
     "metadata": {},
     "output_type": "display_data"
    },
    {
     "data": {
      "text/html": [
       "<pre>Warning: Ignoring columns unix_timestamp;</pre>"
      ],
      "text/plain": [
       "Warning: Ignoring columns unix_timestamp;"
      ]
     },
     "metadata": {},
     "output_type": "display_data"
    },
    {
     "data": {
      "text/html": [
       "<pre>    To use these columns in scoring predictions, use a model that allows the use of additional features.</pre>"
      ],
      "text/plain": [
       "    To use these columns in scoring predictions, use a model that allows the use of additional features."
      ]
     },
     "metadata": {},
     "output_type": "display_data"
    },
    {
     "data": {
      "text/html": [
       "<pre>Preparing data set.</pre>"
      ],
      "text/plain": [
       "Preparing data set."
      ]
     },
     "metadata": {},
     "output_type": "display_data"
    },
    {
     "data": {
      "text/html": [
       "<pre>    Data has 800167 observations with 6040 users and 3675 items.</pre>"
      ],
      "text/plain": [
       "    Data has 800167 observations with 6040 users and 3675 items."
      ]
     },
     "metadata": {},
     "output_type": "display_data"
    },
    {
     "data": {
      "text/html": [
       "<pre>    Data prepared in: 1.97937s</pre>"
      ],
      "text/plain": [
       "    Data prepared in: 1.97937s"
      ]
     },
     "metadata": {},
     "output_type": "display_data"
    },
    {
     "data": {
      "text/html": [
       "<pre>800167 observations to process; with 3675 unique items.</pre>"
      ],
      "text/plain": [
       "800167 observations to process; with 3675 unique items."
      ]
     },
     "metadata": {},
     "output_type": "display_data"
    }
   ],
   "source": [
    "train_data = graphlab.SFrame(X_train)\n",
    "test_data = graphlab.SFrame(X_test)\n",
    "user_data=graphlab.SFrame(users)\n",
    "popularity_model = graphlab.popularity_recommender.create(train_data, user_id='user_id', item_id='movie_id',\n",
    "                                                          user_data=user_data,target='rating')"
   ]
  },
  {
   "cell_type": "markdown",
   "metadata": {},
   "source": [
    "Lets predict the recommendations for the first few users"
   ]
  },
  {
   "cell_type": "code",
   "execution_count": 50,
   "metadata": {
    "collapsed": false
   },
   "outputs": [
    {
     "name": "stdout",
     "output_type": "stream",
     "text": [
      "+---------+----------+-------+------+\n",
      "| user_id | movie_id | score | rank |\n",
      "+---------+----------+-------+------+\n",
      "|    1    |   3881   |  5.0  |  1   |\n",
      "|    1    |   787    |  5.0  |  2   |\n",
      "|    1    |   853    |  5.0  |  3   |\n",
      "|    1    |   3233   |  5.0  |  4   |\n",
      "|    1    |   989    |  5.0  |  5   |\n",
      "|    2    |   3881   |  5.0  |  1   |\n",
      "|    2    |   787    |  5.0  |  2   |\n",
      "|    2    |   853    |  5.0  |  3   |\n",
      "|    2    |   3233   |  5.0  |  4   |\n",
      "|    2    |   989    |  5.0  |  5   |\n",
      "|    3    |   3881   |  5.0  |  1   |\n",
      "|    3    |   787    |  5.0  |  2   |\n",
      "|    3    |   853    |  5.0  |  3   |\n",
      "|    3    |   3233   |  5.0  |  4   |\n",
      "|    3    |   989    |  5.0  |  5   |\n",
      "|    4    |   3881   |  5.0  |  1   |\n",
      "|    4    |   787    |  5.0  |  2   |\n",
      "|    4    |   853    |  5.0  |  3   |\n",
      "|    4    |   3233   |  5.0  |  4   |\n",
      "|    4    |   989    |  5.0  |  5   |\n",
      "|    5    |   3881   |  5.0  |  1   |\n",
      "|    5    |   787    |  5.0  |  2   |\n",
      "|    5    |   853    |  5.0  |  3   |\n",
      "|    5    |   3233   |  5.0  |  4   |\n",
      "|    5    |   989    |  5.0  |  5   |\n",
      "|    6    |   3881   |  5.0  |  1   |\n",
      "|    6    |   787    |  5.0  |  2   |\n",
      "|    6    |   853    |  5.0  |  3   |\n",
      "|    6    |   3233   |  5.0  |  4   |\n",
      "|    6    |   989    |  5.0  |  5   |\n",
      "|    7    |   3881   |  5.0  |  1   |\n",
      "|    7    |   787    |  5.0  |  2   |\n",
      "|    7    |   853    |  5.0  |  3   |\n",
      "|    7    |   3233   |  5.0  |  4   |\n",
      "|    7    |   989    |  5.0  |  5   |\n",
      "|    8    |   3881   |  5.0  |  1   |\n",
      "|    8    |   787    |  5.0  |  2   |\n",
      "|    8    |   853    |  5.0  |  3   |\n",
      "|    8    |   3233   |  5.0  |  4   |\n",
      "|    8    |   989    |  5.0  |  5   |\n",
      "+---------+----------+-------+------+\n",
      "[45 rows x 4 columns]\n",
      "\n",
      "Canvas is updated and available in a tab in the default browser.\n"
     ]
    }
   ],
   "source": [
    "popularity_recomm = popularity_model.recommend(users=range(1,10),k=5)\n",
    "popularity_recomm.print_rows(num_rows=40)\n",
    "popularity_recomm.show()"
   ]
  },
  {
   "cell_type": "markdown",
   "metadata": {},
   "source": [
    "We can see that all the users get the same recommendations. This is the result of not using a user based model, i.e collabarative filtering. Since the popular movies are same for everyone, every user is recommended the same movies."
   ]
  },
  {
   "cell_type": "markdown",
   "metadata": {},
   "source": [
    "## Collaborative Filtering\n",
    "Users recommendations are based upon \n",
    "1. similar users preferences and assumes that since the profile iof the users match, their interests will.\n",
    "\n",
    "To match, we use a cosine similarity model. This constructs a similarity vector between two items, the lesser the angle, the more similar the two vectors are."
   ]
  },
  {
   "cell_type": "code",
   "execution_count": 51,
   "metadata": {
    "collapsed": false
   },
   "outputs": [
    {
     "data": {
      "text/html": [
       "<pre>Recsys training: model = item_similarity</pre>"
      ],
      "text/plain": [
       "Recsys training: model = item_similarity"
      ]
     },
     "metadata": {},
     "output_type": "display_data"
    },
    {
     "data": {
      "text/html": [
       "<pre>Warning: Ignoring columns unix_timestamp;</pre>"
      ],
      "text/plain": [
       "Warning: Ignoring columns unix_timestamp;"
      ]
     },
     "metadata": {},
     "output_type": "display_data"
    },
    {
     "data": {
      "text/html": [
       "<pre>    To use these columns in scoring predictions, use a model that allows the use of additional features.</pre>"
      ],
      "text/plain": [
       "    To use these columns in scoring predictions, use a model that allows the use of additional features."
      ]
     },
     "metadata": {},
     "output_type": "display_data"
    },
    {
     "data": {
      "text/html": [
       "<pre>Preparing data set.</pre>"
      ],
      "text/plain": [
       "Preparing data set."
      ]
     },
     "metadata": {},
     "output_type": "display_data"
    },
    {
     "data": {
      "text/html": [
       "<pre>    Data has 800167 observations with 6040 users and 3675 items.</pre>"
      ],
      "text/plain": [
       "    Data has 800167 observations with 6040 users and 3675 items."
      ]
     },
     "metadata": {},
     "output_type": "display_data"
    },
    {
     "data": {
      "text/html": [
       "<pre>    Data prepared in: 0.884877s</pre>"
      ],
      "text/plain": [
       "    Data prepared in: 0.884877s"
      ]
     },
     "metadata": {},
     "output_type": "display_data"
    },
    {
     "data": {
      "text/html": [
       "<pre>Training model from provided data.</pre>"
      ],
      "text/plain": [
       "Training model from provided data."
      ]
     },
     "metadata": {},
     "output_type": "display_data"
    },
    {
     "data": {
      "text/html": [
       "<pre>Gathering per-item and per-user statistics.</pre>"
      ],
      "text/plain": [
       "Gathering per-item and per-user statistics."
      ]
     },
     "metadata": {},
     "output_type": "display_data"
    },
    {
     "data": {
      "text/html": [
       "<pre>+--------------------------------+------------+</pre>"
      ],
      "text/plain": [
       "+--------------------------------+------------+"
      ]
     },
     "metadata": {},
     "output_type": "display_data"
    },
    {
     "data": {
      "text/html": [
       "<pre>| Elapsed Time (Item Statistics) | % Complete |</pre>"
      ],
      "text/plain": [
       "| Elapsed Time (Item Statistics) | % Complete |"
      ]
     },
     "metadata": {},
     "output_type": "display_data"
    },
    {
     "data": {
      "text/html": [
       "<pre>+--------------------------------+------------+</pre>"
      ],
      "text/plain": [
       "+--------------------------------+------------+"
      ]
     },
     "metadata": {},
     "output_type": "display_data"
    },
    {
     "data": {
      "text/html": [
       "<pre>| 9.941ms                        | 16.5       |</pre>"
      ],
      "text/plain": [
       "| 9.941ms                        | 16.5       |"
      ]
     },
     "metadata": {},
     "output_type": "display_data"
    },
    {
     "data": {
      "text/html": [
       "<pre>| 35.964ms                       | 100        |</pre>"
      ],
      "text/plain": [
       "| 35.964ms                       | 100        |"
      ]
     },
     "metadata": {},
     "output_type": "display_data"
    },
    {
     "data": {
      "text/html": [
       "<pre>+--------------------------------+------------+</pre>"
      ],
      "text/plain": [
       "+--------------------------------+------------+"
      ]
     },
     "metadata": {},
     "output_type": "display_data"
    },
    {
     "data": {
      "text/html": [
       "<pre>Setting up lookup tables.</pre>"
      ],
      "text/plain": [
       "Setting up lookup tables."
      ]
     },
     "metadata": {},
     "output_type": "display_data"
    },
    {
     "data": {
      "text/html": [
       "<pre>Processing data in one pass using dense lookup tables.</pre>"
      ],
      "text/plain": [
       "Processing data in one pass using dense lookup tables."
      ]
     },
     "metadata": {},
     "output_type": "display_data"
    },
    {
     "data": {
      "text/html": [
       "<pre>+-------------------------------------+------------------+-----------------+</pre>"
      ],
      "text/plain": [
       "+-------------------------------------+------------------+-----------------+"
      ]
     },
     "metadata": {},
     "output_type": "display_data"
    },
    {
     "data": {
      "text/html": [
       "<pre>| Elapsed Time (Constructing Lookups) | Total % Complete | Items Processed |</pre>"
      ],
      "text/plain": [
       "| Elapsed Time (Constructing Lookups) | Total % Complete | Items Processed |"
      ]
     },
     "metadata": {},
     "output_type": "display_data"
    },
    {
     "data": {
      "text/html": [
       "<pre>+-------------------------------------+------------------+-----------------+</pre>"
      ],
      "text/plain": [
       "+-------------------------------------+------------------+-----------------+"
      ]
     },
     "metadata": {},
     "output_type": "display_data"
    },
    {
     "data": {
      "text/html": [
       "<pre>| 113.94ms                            | 0                | 0               |</pre>"
      ],
      "text/plain": [
       "| 113.94ms                            | 0                | 0               |"
      ]
     },
     "metadata": {},
     "output_type": "display_data"
    },
    {
     "data": {
      "text/html": [
       "<pre>| 1.11s                               | 65               | 2391            |</pre>"
      ],
      "text/plain": [
       "| 1.11s                               | 65               | 2391            |"
      ]
     },
     "metadata": {},
     "output_type": "display_data"
    },
    {
     "data": {
      "text/html": [
       "<pre>| 1.87s                               | 100              | 3675            |</pre>"
      ],
      "text/plain": [
       "| 1.87s                               | 100              | 3675            |"
      ]
     },
     "metadata": {},
     "output_type": "display_data"
    },
    {
     "data": {
      "text/html": [
       "<pre>+-------------------------------------+------------------+-----------------+</pre>"
      ],
      "text/plain": [
       "+-------------------------------------+------------------+-----------------+"
      ]
     },
     "metadata": {},
     "output_type": "display_data"
    },
    {
     "data": {
      "text/html": [
       "<pre>Finalizing lookup tables.</pre>"
      ],
      "text/plain": [
       "Finalizing lookup tables."
      ]
     },
     "metadata": {},
     "output_type": "display_data"
    },
    {
     "data": {
      "text/html": [
       "<pre>Generating candidate set for working with new users.</pre>"
      ],
      "text/plain": [
       "Generating candidate set for working with new users."
      ]
     },
     "metadata": {},
     "output_type": "display_data"
    },
    {
     "data": {
      "text/html": [
       "<pre>Finished training in 2.01743s</pre>"
      ],
      "text/plain": [
       "Finished training in 2.01743s"
      ]
     },
     "metadata": {},
     "output_type": "display_data"
    }
   ],
   "source": [
    "item_sim_model = graphlab.item_similarity_recommender.create(train_data, user_id='user_id', item_id='movie_id', target='rating',\n",
    "                                                             user_data=user_data,similarity_type='cosine')\n"
   ]
  },
  {
   "cell_type": "markdown",
   "metadata": {},
   "source": [
    "## Evaluation"
   ]
  },
  {
   "cell_type": "code",
   "execution_count": 53,
   "metadata": {
    "collapsed": false
   },
   "outputs": [
    {
     "name": "stdout",
     "output_type": "stream",
     "text": [
      "PROGRESS: Evaluate model M0\n"
     ]
    },
    {
     "data": {
      "text/html": [
       "<pre>recommendations finished on 1000/6033 queries. users per second: 16858</pre>"
      ],
      "text/plain": [
       "recommendations finished on 1000/6033 queries. users per second: 16858"
      ]
     },
     "metadata": {},
     "output_type": "display_data"
    },
    {
     "data": {
      "text/html": [
       "<pre>recommendations finished on 2000/6033 queries. users per second: 20089.2</pre>"
      ],
      "text/plain": [
       "recommendations finished on 2000/6033 queries. users per second: 20089.2"
      ]
     },
     "metadata": {},
     "output_type": "display_data"
    },
    {
     "data": {
      "text/html": [
       "<pre>recommendations finished on 3000/6033 queries. users per second: 19051</pre>"
      ],
      "text/plain": [
       "recommendations finished on 3000/6033 queries. users per second: 19051"
      ]
     },
     "metadata": {},
     "output_type": "display_data"
    },
    {
     "data": {
      "text/html": [
       "<pre>recommendations finished on 4000/6033 queries. users per second: 20469.8</pre>"
      ],
      "text/plain": [
       "recommendations finished on 4000/6033 queries. users per second: 20469.8"
      ]
     },
     "metadata": {},
     "output_type": "display_data"
    },
    {
     "data": {
      "text/html": [
       "<pre>recommendations finished on 5000/6033 queries. users per second: 20424.1</pre>"
      ],
      "text/plain": [
       "recommendations finished on 5000/6033 queries. users per second: 20424.1"
      ]
     },
     "metadata": {},
     "output_type": "display_data"
    },
    {
     "data": {
      "text/html": [
       "<pre>recommendations finished on 6000/6033 queries. users per second: 18132.7</pre>"
      ],
      "text/plain": [
       "recommendations finished on 6000/6033 queries. users per second: 18132.7"
      ]
     },
     "metadata": {},
     "output_type": "display_data"
    },
    {
     "name": "stdout",
     "output_type": "stream",
     "text": [
      "\n",
      "Precision and recall summary statistics by cutoff\n",
      "+--------+-------------------+-------------------+\n",
      "| cutoff |   mean_precision  |    mean_recall    |\n",
      "+--------+-------------------+-------------------+\n",
      "|   1    |        0.0        |        0.0        |\n",
      "|   2    |        0.0        |        0.0        |\n",
      "|   3    |        0.0        |        0.0        |\n",
      "|   4    | 4.14387535223e-05 | 1.97327397725e-06 |\n",
      "|   5    | 3.31510028178e-05 | 1.97327397725e-06 |\n",
      "|   6    | 2.76258356815e-05 | 1.97327397725e-06 |\n",
      "|   7    |  2.3679287727e-05 | 1.97327397725e-06 |\n",
      "|   8    | 2.07193767611e-05 | 1.97327397725e-06 |\n",
      "|   9    | 3.68344475754e-05 | 4.93318494313e-06 |\n",
      "|   10   | 4.97265042268e-05 | 7.89309590901e-06 |\n",
      "+--------+-------------------+-------------------+\n",
      "[10 rows x 3 columns]\n",
      "\n",
      "PROGRESS: Evaluate model M1\n"
     ]
    },
    {
     "data": {
      "text/html": [
       "<pre>recommendations finished on 1000/6033 queries. users per second: 14691.4</pre>"
      ],
      "text/plain": [
       "recommendations finished on 1000/6033 queries. users per second: 14691.4"
      ]
     },
     "metadata": {},
     "output_type": "display_data"
    },
    {
     "data": {
      "text/html": [
       "<pre>recommendations finished on 2000/6033 queries. users per second: 13590</pre>"
      ],
      "text/plain": [
       "recommendations finished on 2000/6033 queries. users per second: 13590"
      ]
     },
     "metadata": {},
     "output_type": "display_data"
    },
    {
     "data": {
      "text/html": [
       "<pre>recommendations finished on 3000/6033 queries. users per second: 12384.7</pre>"
      ],
      "text/plain": [
       "recommendations finished on 3000/6033 queries. users per second: 12384.7"
      ]
     },
     "metadata": {},
     "output_type": "display_data"
    },
    {
     "data": {
      "text/html": [
       "<pre>recommendations finished on 4000/6033 queries. users per second: 12258.2</pre>"
      ],
      "text/plain": [
       "recommendations finished on 4000/6033 queries. users per second: 12258.2"
      ]
     },
     "metadata": {},
     "output_type": "display_data"
    },
    {
     "data": {
      "text/html": [
       "<pre>recommendations finished on 5000/6033 queries. users per second: 12183.4</pre>"
      ],
      "text/plain": [
       "recommendations finished on 5000/6033 queries. users per second: 12183.4"
      ]
     },
     "metadata": {},
     "output_type": "display_data"
    },
    {
     "data": {
      "text/html": [
       "<pre>recommendations finished on 6000/6033 queries. users per second: 11893.3</pre>"
      ],
      "text/plain": [
       "recommendations finished on 6000/6033 queries. users per second: 11893.3"
      ]
     },
     "metadata": {},
     "output_type": "display_data"
    },
    {
     "name": "stdout",
     "output_type": "stream",
     "text": [
      "\n",
      "Precision and recall summary statistics by cutoff\n",
      "+--------+----------------+-----------------+\n",
      "| cutoff | mean_precision |   mean_recall   |\n",
      "+--------+----------------+-----------------+\n",
      "|   1    | 0.436764462125 |  0.021680102215 |\n",
      "|   2    | 0.398226421349 | 0.0378754235162 |\n",
      "|   3    | 0.374772086856 | 0.0519115989812 |\n",
      "|   4    | 0.356456157799 | 0.0640619711407 |\n",
      "|   5    | 0.341720537046 | 0.0755338420805 |\n",
      "|   6    | 0.328968451296 | 0.0861835980627 |\n",
      "|   7    | 0.318060192749 | 0.0956787772369 |\n",
      "|   8    | 0.308615116857 |  0.105479404532 |\n",
      "|   9    | 0.298653700941 |  0.113758105904 |\n",
      "|   10   | 0.290502237693 |  0.121921196153 |\n",
      "+--------+----------------+-----------------+\n",
      "[10 rows x 3 columns]\n",
      "\n",
      "Model compare metric: precision_recall\n",
      "Canvas is updated and available in a tab in the default browser.\n"
     ]
    }
   ],
   "source": [
    "model_performance = graphlab.compare(test_data, [popularity_model, item_sim_model])\n",
    "graphlab.show_comparison(model_performance,[popularity_model, item_sim_model])"
   ]
  },
  {
   "cell_type": "markdown",
   "metadata": {},
   "source": [
    "# Citation\n",
    "F. Maxwell Harper and Joseph A. Konstan. 2015. The MovieLens Datasets: History\n",
    "and Context. ACM Transactions on Interactive Intelligent Systems (TiiS) 5, 4,\n",
    "Article 19 (December 2015), 19 pages. DOI=http://dx.doi.org/10.1145/2827872"
   ]
  }
 ],
 "metadata": {
  "kernelspec": {
   "display_name": "Python 2",
   "language": "python",
   "name": "python2"
  },
  "language_info": {
   "codemirror_mode": {
    "name": "ipython",
    "version": 2
   },
   "file_extension": ".py",
   "mimetype": "text/x-python",
   "name": "python",
   "nbconvert_exporter": "python",
   "pygments_lexer": "ipython2",
   "version": "2.7.13"
  }
 },
 "nbformat": 4,
 "nbformat_minor": 0
}
